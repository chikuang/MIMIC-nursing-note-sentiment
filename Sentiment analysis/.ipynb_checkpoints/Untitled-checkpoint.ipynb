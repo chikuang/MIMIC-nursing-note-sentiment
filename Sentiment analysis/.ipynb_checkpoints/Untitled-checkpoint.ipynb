{
 "cells": [
  {
   "cell_type": "code",
   "execution_count": 2,
   "metadata": {},
   "outputs": [
    {
     "ename": "NameError",
     "evalue": "name '__file__' is not defined",
     "output_type": "error",
     "traceback": [
      "\u001b[0;31m---------------------------------------------------------------------------\u001b[0m",
      "\u001b[0;31mNameError\u001b[0m                                 Traceback (most recent call last)",
      "\u001b[0;32m<ipython-input-2-76f9021e5d08>\u001b[0m in \u001b[0;36m<module>\u001b[0;34m\u001b[0m\n\u001b[1;32m      4\u001b[0m \u001b[0;32mfrom\u001b[0m \u001b[0mtextblob\u001b[0m\u001b[0;34m.\u001b[0m\u001b[0msentiments\u001b[0m \u001b[0;32mimport\u001b[0m \u001b[0mNaiveBayesAnalyzer\u001b[0m\u001b[0;34m\u001b[0m\u001b[0;34m\u001b[0m\u001b[0m\n\u001b[1;32m      5\u001b[0m \u001b[0;34m\u001b[0m\u001b[0m\n\u001b[0;32m----> 6\u001b[0;31m \u001b[0mscript_dir\u001b[0m \u001b[0;34m=\u001b[0m \u001b[0mos\u001b[0m\u001b[0;34m.\u001b[0m\u001b[0mpath\u001b[0m\u001b[0;34m.\u001b[0m\u001b[0mdirname\u001b[0m\u001b[0;34m(\u001b[0m\u001b[0m__file__\u001b[0m\u001b[0;34m)\u001b[0m\u001b[0;34m\u001b[0m\u001b[0;34m\u001b[0m\u001b[0m\n\u001b[0m\u001b[1;32m      7\u001b[0m \u001b[0mrel_path\u001b[0m \u001b[0;34m=\u001b[0m \u001b[0;34m'~/../MIMIC/notes_df.csv'\u001b[0m\u001b[0;34m\u001b[0m\u001b[0;34m\u001b[0m\u001b[0m\n\u001b[1;32m      8\u001b[0m \u001b[0mabs_file_path\u001b[0m \u001b[0;34m=\u001b[0m \u001b[0mos\u001b[0m\u001b[0;34m.\u001b[0m\u001b[0mpath\u001b[0m\u001b[0;34m.\u001b[0m\u001b[0mjoin\u001b[0m\u001b[0;34m(\u001b[0m\u001b[0mscript_dir\u001b[0m\u001b[0;34m,\u001b[0m \u001b[0mrel_path\u001b[0m\u001b[0;34m)\u001b[0m\u001b[0;34m\u001b[0m\u001b[0;34m\u001b[0m\u001b[0m\n",
      "\u001b[0;31mNameError\u001b[0m: name '__file__' is not defined"
     ]
    }
   ],
   "source": [
    "import os\n",
    "import pandas as pd\n",
    "from textblob import TextBlob\n",
    "from textblob.sentiments import NaiveBayesAnalyzer\n",
    "\n",
    "script_dir = os.path.dirname(__sentiment.py__)\n",
    "rel_path = '~/../MIMIC/notes_df.csv'\n",
    "abs_file_path = os.path.join(script_dir, rel_path)\n",
    "\n",
    "nursing_notes_df = pd.read_csv(abs_file_path, header=0)\n",
    "polarity_vals = []\n",
    "subjectivity_vals = []\n",
    "\n",
    "nursing_notes_df_sample = nursing_notes_df\n",
    "count = 1\n",
    "for note in nursing_notes_df_sample['text']:\n",
    "\ttb = TextBlob(note)\n",
    "\tpolarity_vals.append(tb.sentiment.polarity)\n",
    "\tsubjectivity_vals.append(tb.sentiment.subjectivity)\n",
    "\tif count % 1000 == 0:\n",
    "\t\tprint(\"Processed note #\" + str(count))\n",
    "\tcount += 1\n",
    "\n",
    "nursing_notes_df_sample['polarity'] = polarity_vals\n",
    "nursing_notes_df_sample['subjectivity'] = subjectivity_vals\n",
    "\n",
    "nursing_notes_df_sample.to_csv(\"~/path to project/Data/notes_df_sntmnt.csv\")"
   ]
  }
 ],
 "metadata": {
  "kernelspec": {
   "display_name": "Python 3",
   "language": "python",
   "name": "python3"
  },
  "language_info": {
   "codemirror_mode": {
    "name": "ipython",
    "version": 3
   },
   "file_extension": ".py",
   "mimetype": "text/x-python",
   "name": "python",
   "nbconvert_exporter": "python",
   "pygments_lexer": "ipython3",
   "version": "3.7.3"
  }
 },
 "nbformat": 4,
 "nbformat_minor": 2
}
